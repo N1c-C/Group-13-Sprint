{
 "cells": [
  {
   "cell_type": "code",
   "execution_count": 1,
   "id": "cab5ba36",
   "metadata": {},
   "outputs": [
    {
     "name": "stdout",
     "output_type": "stream",
     "text": [
      "Dealer's turn... Dealer paid 1 coin to play. Dealer currently has  9  coins.\n",
      "Dealer takes a card...\n",
      "Dealer drew  5\n",
      "Dealer's total is currently  5\n",
      "Dealer takes a card...\n",
      "Dealer drew  5\n",
      "Dealer's total is currently  10\n",
      "Dealer takes a card...\n",
      "Dealer drew  5\n",
      "Dealer's total is currently  15\n",
      "Dealer takes a card...\n",
      "Dealer drew  5\n",
      "Dealer's total is currently  20\n",
      "Dealer has chosen to STICK with 20\n",
      "Player takes a turn\n"
     ]
    }
   ],
   "source": [
    "import time\n",
    "\n",
    "class Dealer:\n",
    "    \"\"\"Represents the dealer (computer player)\"\"\"\n",
    "    def __init__(self):\n",
    "        self.total = 0\n",
    "        self.credits = 10\n",
    "        \n",
    "    def __str__(self):\n",
    "        print(self)\n",
    "        \n",
    "    def reset(self):\n",
    "        self.total = 0\n",
    "        \n",
    "    def win(self):\n",
    "        self.credits += 2\n",
    "        \n",
    "    def twist(self):\n",
    "        deck.deal()\n",
    "    \n",
    "dealer = Dealer()\n",
    "\n",
    "def computerturn():\n",
    "    #When this function is called, the dealer's score is reset for another round, a credit is paid, the dealer's turn is\n",
    "    #taken and the process is displayed as text. The dealer's score remains \n",
    "    dealer.reset() #resets the score\n",
    "    if dealer.credits == 0:\n",
    "        print(\"Congratulations! The dealer ran out of credits! You won!\")\n",
    "        game_complete() #Could Niall write this function?\n",
    "    dealer.credits -= 1\n",
    "    print(\"Dealer's turn... Dealer paid 1 credit to play. Dealer currently has \", dealer.credits, \" credits.\")\n",
    "    while dealer.total < 22:\n",
    "        if 15 < dealer.total < 22:\n",
    "            print(\"Dealer has chosen to STICK with\", dealer.total)\n",
    "            break\n",
    "        print(\"Dealer takes a card...\")\n",
    "        time.sleep(2)\n",
    "        card = deck.deal()\n",
    "        print(\"Dealer drew \", card.value)\n",
    "        time.sleep(2)\n",
    "        dealer.total += card.value\n",
    "        print(\"Dealer's total is currently \", dealer.total)\n",
    "        time.sleep(2)\n",
    "    if dealer.total > 21:\n",
    "        print(\"Dealer went bust! Dealer scored 0. Your turn!\")\n",
    "        dealer.reset()\n",
    "    play_hand() \n",
    "    \n",
    "computerturn()"
   ]
  }
 ],
 "metadata": {
  "kernelspec": {
   "display_name": "Python 3 (ipykernel)",
   "language": "python",
   "name": "python3"
  },
  "language_info": {
   "codemirror_mode": {
    "name": "ipython",
    "version": 3
   },
   "file_extension": ".py",
   "mimetype": "text/x-python",
   "name": "python",
   "nbconvert_exporter": "python",
   "pygments_lexer": "ipython3",
   "version": "3.9.7"
  }
 },
 "nbformat": 4,
 "nbformat_minor": 5
}
